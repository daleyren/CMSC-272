{
 "cells": [
  {
   "cell_type": "markdown",
   "metadata": {},
   "source": [
    "# Problem 2 (Clustering)"
   ]
  },
  {
   "cell_type": "markdown",
   "metadata": {},
   "source": [
    "The problem of clustering a sorted sequence of one-dimensional points x1, . . . , xn entails\n",
    "splitting the points into k clusters (where k ≤ n is an input parameter) such that the sum of the squared distances\n",
    "from each point to its cluster mean is minimized.\n",
    "For example, consider the following sequence with n = 5:\n",
    "3, 3, 6, 16, 20\n",
    "Suppose we want to partition it into k = 2 clusters. Here is one possible solution:\n",
    "3, 3 | 6, 16, 20\n",
    "The mean of the first cluster is (3 + 3)/2 = 3, and the mean of the second cluster is (6 + 16 + 20)/3 = 14. The\n",
    "cost (total variance) of this clustering is (3 − 3)2 + (3 − 3)2 + (6 − 14)2 + (16 − 14)2 + (20 − 14)2 = 104. This\n",
    "clustering is not optimal because there exists a better one:\n",
    "3, 3, 6 | 16, 20\n",
    "The mean of the first cluster is (3 + 3 + 6)/3 = 4, and the mean of the second cluster is (16 + 20)/2 = 18. The\n",
    "cost of this clustering is (3 − 4)2 + (3 − 4)2 + (6 − 4)2 + (16 − 18)2 + (20 − 18)2 = 14, which is optimal.\n",
    "Give a dynamic programming algorithm that takes as input an array x[1..n] and a positive integer k, and\n",
    "returns the lowest cost of any possible clustering with k or fewer clusters. The running time should be O(n3k).\n",
    "Note: O(n3k) is not necessarily the optimal running time!"
   ]
  },
  {
   "cell_type": "code",
   "execution_count": 10,
   "metadata": {},
   "outputs": [],
   "source": [
    "# THIS IS GREEDY, im actually braindead\n",
    "\n",
    "import timeit\n",
    "from time import time\n",
    "import math\n",
    "\n",
    "def print2D(array):\n",
    "    for subarray in array:\n",
    "        print(subarray)\n",
    "\n",
    "def compute_cost(x, start, end):\n",
    "    mean = sum(x[start:end+1]) / (end - start + 1)\n",
    "    return sum((x[i] - mean) ** 2 for i in range(start, end+1))\n",
    "\n",
    "def minCostClustering(x: list, k: int):\n",
    "    n = len(x)\n",
    "    \n",
    "    # INITIALIZE BASE (k clusters)\n",
    "    dp = [[i, i] for i in range(n)]\n",
    "\n",
    "\n",
    "    for i in range(n-k): # O([n-k])\n",
    "        smallest_cost = math.inf\n",
    "        to_merge = None\n",
    "        for j in range(1, len(dp)): # go through each possible merge  O(n)\n",
    "            # print('Pair:', dp[j-1][0], dp[j][1])\n",
    "            start = dp[j-1][0]\n",
    "            end = dp[j][1]\n",
    "            cost = compute_cost(x, start, end) # O(n)\n",
    "            if cost < smallest_cost: \n",
    "                smallest_cost = cost\n",
    "                to_merge = [start, end]\n",
    "        # print(to_merge)\n",
    "        for j in range(1, len(dp)): # O(n)\n",
    "            if to_merge[1] == dp[j][1]:\n",
    "                dp[j][0] = to_merge[0]\n",
    "                dp.pop(j-1)\n",
    "                break\n",
    "\n",
    "    total_cost = 0\n",
    "    for start, end in dp:\n",
    "        total_cost += compute_cost(x, start, end)\n",
    "    return total_cost\n",
    "\n",
    "     \n"
   ]
  },
  {
   "cell_type": "code",
   "execution_count": 87,
   "metadata": {},
   "outputs": [],
   "source": [
    "def min_cost_clustering_2(x, k):\n",
    "    n = len(x)\n",
    "    dp = [[float('inf')] * (k + 1) for _ in range(n + 1)]\n",
    "    dp[0][0] = 0  # base case\n",
    "\n",
    "    cost = [[0] * (n + 1) for _ in range(n + 1)]\n",
    "    for p in range(1, n + 1):\n",
    "        for i in range(p, n + 1):\n",
    "            mean = sum(x[p-1:i]) / (i - p + 1)\n",
    "            cost[p][i] = sum((x[q-1] - mean) ** 2 for q in range(p, i + 1))\n",
    "\n",
    "    for j in range(1, k + 1):\n",
    "        print2D(dp)\n",
    "        print()\n",
    "        for i in range(1, n + 1):\n",
    "            for p in range(1, i + 1):\n",
    "                dp[i][j] = min(dp[i][j], dp[p-1][j-1] + cost[p][i])\n",
    "    \n",
    "    return dp[n][k]"
   ]
  },
  {
   "cell_type": "code",
   "execution_count": 110,
   "metadata": {},
   "outputs": [
    {
     "name": "stdout",
     "output_type": "stream",
     "text": [
      "[0, inf, inf, inf, inf]\n",
      "[inf, inf, inf, inf, inf]\n",
      "[inf, inf, inf, inf, inf]\n",
      "[inf, inf, inf, inf, inf]\n",
      "[inf, inf, inf, inf, inf]\n",
      "[inf, inf, inf, inf, inf]\n",
      "[inf, inf, inf, inf, inf]\n",
      "[inf, inf, inf, inf, inf]\n",
      "[inf, inf, inf, inf, inf]\n",
      "[inf, inf, inf, inf, inf]\n",
      "[inf, inf, inf, inf, inf]\n",
      "[inf, inf, inf, inf, inf]\n",
      "\n",
      "[0, inf, inf, inf, inf]\n",
      "[inf, 0.0, inf, inf, inf]\n",
      "[inf, 4.5, inf, inf, inf]\n",
      "[inf, 8.666666666666666, inf, inf, inf]\n",
      "[inf, 94.0, inf, inf, inf]\n",
      "[inf, 209.2, inf, inf, inf]\n",
      "[inf, 302.8333333333333, inf, inf, inf]\n",
      "[inf, 385.71428571428567, inf, inf, inf]\n",
      "[inf, 500.0, inf, inf, inf]\n",
      "[inf, 607.5555555555555, inf, inf, inf]\n",
      "[inf, 693.6000000000001, inf, inf, inf]\n",
      "[inf, 764.0, inf, inf, inf]\n",
      "\n",
      "[0, inf, inf, inf, inf]\n",
      "[inf, 0.0, inf, inf, inf]\n",
      "[inf, 4.5, 0.0, inf, inf]\n",
      "[inf, 8.666666666666666, 0.5, inf, inf]\n",
      "[inf, 94.0, 8.666666666666666, inf, inf]\n",
      "[inf, 209.2, 16.666666666666664, inf, inf]\n",
      "[inf, 302.8333333333333, 22.666666666666664, inf, inf]\n",
      "[inf, 385.71428571428567, 29.416666666666664, inf, inf]\n",
      "[inf, 500.0, 51.46666666666666, inf, inf]\n",
      "[inf, 607.5555555555555, 74.0, inf, inf]\n",
      "[inf, 693.6000000000001, 90.0952380952381, inf, inf]\n",
      "[inf, 764.0, 102.16666666666667, inf, inf]\n",
      "\n",
      "[0, inf, inf, inf, inf]\n",
      "[inf, 0.0, inf, inf, inf]\n",
      "[inf, 4.5, 0.0, inf, inf]\n",
      "[inf, 8.666666666666666, 0.5, 0.0, inf]\n",
      "[inf, 94.0, 8.666666666666666, 0.5, inf]\n",
      "[inf, 209.2, 16.666666666666664, 8.5, inf]\n",
      "[inf, 302.8333333333333, 22.666666666666664, 9.166666666666666, inf]\n",
      "[inf, 385.71428571428567, 29.416666666666664, 10.666666666666666, inf]\n",
      "[inf, 500.0, 51.46666666666666, 22.666666666666664, inf]\n",
      "[inf, 607.5555555555555, 74.0, 29.916666666666664, inf]\n",
      "[inf, 693.6000000000001, 90.0952380952381, 30.083333333333332, inf]\n",
      "[inf, 764.0, 102.16666666666667, 30.166666666666664, inf]\n",
      "\n",
      "11.416666666666666\n"
     ]
    }
   ],
   "source": [
    "x = [3, 6, 7, 16, 20, 21, 22, 25, 26, 26, 26]\n",
    "k = 4\n",
    "\n",
    "# t0 = time()\n",
    "# print(minCostClustering(x, k))\n",
    "# t1 = time()\n",
    "# print(f'My algorithm runtime: {t1-t0}')\n",
    "\n",
    "print(min_cost_clustering_2(x, k))  # Output the minimum cost\n",
    "\n"
   ]
  },
  {
   "cell_type": "markdown",
   "metadata": {},
   "source": [
    "# Problem 4 (Lorenzo’s Trip: Revenge of the Gas Engines)"
   ]
  },
  {
   "cell_type": "markdown",
   "metadata": {},
   "source": [
    "Lorenzo is going on another trip! This time, he’s\n",
    "back to his gasoline-powered car. He has already figured out the path he is going to take, and knows that there are gas\n",
    "stations g1, . . . , gn along the path (in that order). Lorenzo may buy a whole number of gallons of gas at each station,\n",
    "and pays ci per gallon at station gi. Lorenzo starts at g1 with 0 gallons and ends at gn. His tank holds at most\n",
    "C gallons of gas at once, and he gets m miles per gallon. Station gi is distance di away from g1, and the distance\n",
    "|di − di−1| is a multiple of m but less than Cm for every i > 1. The problem we are interested in is the following:\n",
    "given g1, ..., gn, d1, ..., dn, C and m, find how much gas Lorenzo would need to buy at each station to reach gn while\n",
    "minimizing the amount he pays for gas."
   ]
  },
  {
   "cell_type": "markdown",
   "metadata": {},
   "source": [
    "my implementation: i cooked"
   ]
  },
  {
   "cell_type": "code",
   "execution_count": 116,
   "metadata": {},
   "outputs": [
    {
     "name": "stdout",
     "output_type": "stream",
     "text": [
      "[0, -4, 2, 0, 6]\n",
      "[1, -2, 3, 2, 7]\n",
      "[2, 0, 4, 4, 8]\n",
      "[3, 2, 5, 6, 9]\n",
      "[4, 4, 6, 8, 10]\n",
      "[5, 6, 7, 10, 11]\n",
      "[6, 8, 8, 12, 12]\n",
      "[7, 10, 9, 14, 13]\n",
      "[8, 12, 10, 16, 14]\n",
      "[9, 14, 11, 18, 15]\n",
      "[10, 16, 12, 20, 16]\n",
      "6\n"
     ]
    }
   ],
   "source": [
    "def min_cost_of_gas(stations, distances, costs, C, m):\n",
    "  n = len(stations)\n",
    "\n",
    "  dp = [[float('inf') for j in range(n)] for i in range(C + 1)]\n",
    "  \n",
    "  # initialize first station\n",
    "  for i in range(C + 1):\n",
    "    dp[i][0] = costs[0] * i\n",
    "\n",
    "  for j in range(1, n):\n",
    "    for i in range(C+1):\n",
    "      for prev_i in range(C+1):\n",
    "        distance = distances[j]-distances[j-1]\n",
    "        gas_needed = distance // m\n",
    "        if prev_i < gas_needed:\n",
    "          continue\n",
    "        gas_pumped = i - (prev_i - gas_needed)\n",
    "        dp[i][j] = min(\n",
    "          dp[i][j],\n",
    "          dp[prev_i][j-1] + gas_pumped * costs[j]\n",
    "        )\n",
    "\n",
    "  print2D(dp)\n",
    "  return dp[0][n-1]\n",
    "\n",
    "\n",
    "stations = ['g1', 'g2', 'g3', 'g4', 'g5']\n",
    "distances = [0, 6, 12, 20, 26]\n",
    "costs = [1, 2, 1, 2, 1]\n",
    "C = 10\n",
    "m = 2\n",
    "\n",
    "print(min_cost_of_gas(stations, distances, costs, C,  m))\n"
   ]
  }
 ],
 "metadata": {
  "kernelspec": {
   "display_name": "Python 3",
   "language": "python",
   "name": "python3"
  },
  "language_info": {
   "codemirror_mode": {
    "name": "ipython",
    "version": 3
   },
   "file_extension": ".py",
   "mimetype": "text/x-python",
   "name": "python",
   "nbconvert_exporter": "python",
   "pygments_lexer": "ipython3",
   "version": "3.8.10"
  }
 },
 "nbformat": 4,
 "nbformat_minor": 2
}
