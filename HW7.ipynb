{
 "cells": [
  {
   "cell_type": "markdown",
   "metadata": {},
   "source": [
    "Problem 2 (Clustering) The problem of clustering a sorted sequence of one-dimensional points x1, . . . , xn entails\n",
    "splitting the points into k clusters (where k ≤ n is an input parameter) such that the sum of the squared distances\n",
    "from each point to its cluster mean is minimized.\n",
    "For example, consider the following sequence with n = 5:\n",
    "3, 3, 6, 16, 20\n",
    "Suppose we want to partition it into k = 2 clusters. Here is one possible solution:\n",
    "3, 3 | 6, 16, 20\n",
    "The mean of the first cluster is (3 + 3)/2 = 3, and the mean of the second cluster is (6 + 16 + 20)/3 = 14. The\n",
    "cost (total variance) of this clustering is (3 − 3)2 + (3 − 3)2 + (6 − 14)2 + (16 − 14)2 + (20 − 14)2 = 104. This\n",
    "clustering is not optimal because there exists a better one:\n",
    "3, 3, 6 | 16, 20\n",
    "The mean of the first cluster is (3 + 3 + 6)/3 = 4, and the mean of the second cluster is (16 + 20)/2 = 18. The\n",
    "cost of this clustering is (3 − 4)2 + (3 − 4)2 + (6 − 4)2 + (16 − 18)2 + (20 − 18)2 = 14, which is optimal.\n",
    "Give a dynamic programming algorithm that takes as input an array x[1..n] and a positive integer k, and\n",
    "returns the lowest cost of any possible clustering with k or fewer clusters. The running time should be O(n3k).\n",
    "Note: O(n3k) is not necessarily the optimal running time!"
   ]
  },
  {
   "cell_type": "code",
   "execution_count": 174,
   "metadata": {},
   "outputs": [],
   "source": [
    "\n",
    "# THIS IS GREEDY YOU SLOW HO\n",
    "import timeit\n",
    "from time import time\n",
    "import math\n",
    "\n",
    "def print2D(array):\n",
    "    for subarray in array:\n",
    "        print(subarray)\n",
    "\n",
    "def compute_cost(x, start, end):\n",
    "    mean = sum(x[start:end+1]) / (end - start + 1)\n",
    "    return sum((x[i] - mean) ** 2 for i in range(start, end+1))\n",
    "\n",
    "def minCostClustering(x: list, k: int):\n",
    "    n = len(x)\n",
    "    \n",
    "    # INITIALIZE BASE (k clusters)\n",
    "    dp = [[i, i] for i in range(n)]\n",
    "\n",
    "\n",
    "    for i in range(n-k): # O([n-k])\n",
    "        smallest_cost = math.inf\n",
    "        to_merge = None\n",
    "        for j in range(1, len(dp)): # go through each possible merge  O(n)\n",
    "            # print('Pair:', dp[j-1][0], dp[j][1])\n",
    "            start = dp[j-1][0]\n",
    "            end = dp[j][1]\n",
    "            cost = compute_cost(x, start, end) # O(n)\n",
    "            if cost < smallest_cost: \n",
    "                smallest_cost = cost\n",
    "                to_merge = [start, end]\n",
    "        # print(to_merge)\n",
    "        for j in range(1, len(dp)): # O(n)\n",
    "            if to_merge[1] == dp[j][1]:\n",
    "                dp[j][0] = to_merge[0]\n",
    "                dp.pop(j-1)\n",
    "                break\n",
    "\n",
    "    total_cost = 0\n",
    "    for start, end in dp:\n",
    "        total_cost += compute_cost(x, start, end)\n",
    "    return total_cost\n",
    "\n",
    "     \n"
   ]
  },
  {
   "cell_type": "code",
   "execution_count": 155,
   "metadata": {},
   "outputs": [],
   "source": [
    "def compute_cost(points, start, end):\n",
    "    mean = sum(points[start:end+1]) / (end - start + 1)\n",
    "    return sum((points[i] - mean) ** 2 for i in range(start, end+1))\n",
    "\n",
    "def cluster_points(points, k):\n",
    "    n = len(points)\n",
    "    dp = [[float('inf')] * (k + 1) for _ in range(n + 1)]\n",
    "    dp[0][0] = 0  # No cost to cluster zero points into zero clusters\n",
    "\n",
    "    # Precompute costs\n",
    "    cost = [[0] * n for _ in range(n)]\n",
    "    for i in range(n):\n",
    "        for j in range(i, n):\n",
    "            cost[i][j] = compute_cost(points, i, j)\n",
    "\n",
    "    # Fill DP table\n",
    "    for j in range(1, k + 1):\n",
    "        for i in range(1, n + 1):\n",
    "            # print2D(dp)\n",
    "            # print()\n",
    "            for x in range(i):\n",
    "                dp[i][j] = min(dp[i][j], dp[x][j-1] + cost[x][i-1])\n",
    "\n",
    "    return dp[n][k]\n"
   ]
  },
  {
   "cell_type": "code",
   "execution_count": 177,
   "metadata": {},
   "outputs": [
    {
     "name": "stdout",
     "output_type": "stream",
     "text": [
      "70.0\n",
      "My algorithm runtime: 0.0006048679351806641\n",
      "65.33333333333333\n",
      "GPT Algorithm runtime: 0.0002911090850830078\n"
     ]
    }
   ],
   "source": [
    "x = [1, 2, 3, 4, 5, 6, 7, 8, 9, 11, 12, 13, 14, 15]\n",
    "k = 2\n",
    "\n",
    "t0 = time()\n",
    "print(minCostClustering(x, k))\n",
    "t1 = time()\n",
    "print(f'My algorithm runtime: {t1-t0}')\n",
    "\n",
    "\n",
    "t2 = time()\n",
    "print(cluster_points(x, k))\n",
    "t3 = time()\n",
    "print(f'GPT Algorithm runtime: {t3-t2}')\n"
   ]
  }
 ],
 "metadata": {
  "kernelspec": {
   "display_name": "Python 3",
   "language": "python",
   "name": "python3"
  },
  "language_info": {
   "codemirror_mode": {
    "name": "ipython",
    "version": 3
   },
   "file_extension": ".py",
   "mimetype": "text/x-python",
   "name": "python",
   "nbconvert_exporter": "python",
   "pygments_lexer": "ipython3",
   "version": "3.8.10"
  }
 },
 "nbformat": 4,
 "nbformat_minor": 2
}
