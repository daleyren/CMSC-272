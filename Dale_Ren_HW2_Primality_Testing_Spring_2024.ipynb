{
  "cells": [
    {
      "cell_type": "markdown",
      "source": [
        "# Important: Use File -> Save a Copy in Drive to create a copy of this document. Edit *your copy* of the file. If you attempt to edit this file, your changes will not be saved."
      ],
      "metadata": {
        "id": "Mz-vGZ6VZ7YN"
      }
    },
    {
      "cell_type": "markdown",
      "metadata": {
        "id": "frtSFvBKQDrV"
      },
      "source": [
        "# Primality Testing\n",
        "\n",
        "In this notebook you will test different primality testing algorithms in terms of their success and running time. First you should use Eratosthenes' sieve to acquire all primes under 10,000."
      ]
    },
    {
      "cell_type": "code",
      "execution_count": 72,
      "metadata": {
        "id": "hqtMQerDQDrZ"
      },
      "outputs": [],
      "source": [
        "# Imports\n",
        "import math\n",
        "import random\n",
        "from datetime import datetime\n",
        "import numpy as np\n",
        "\n",
        "N = 10000"
      ]
    },
    {
      "cell_type": "code",
      "execution_count": 73,
      "metadata": {
        "id": "ILb4H15eQDrb",
        "colab": {
          "base_uri": "https://localhost:8080/"
        },
        "outputId": "a63c9ec9-c857-4eff-9a52-e889bc47d6da"
      },
      "outputs": [
        {
          "output_type": "stream",
          "name": "stdout",
          "text": [
            "1229\n"
          ]
        }
      ],
      "source": [
        "def sieve(n: int):\n",
        "    is_prime = np.ones(n + 1, dtype=bool)\n",
        "    is_prime[0] = False\n",
        "    is_prime[1] = False\n",
        "    primes = []\n",
        "\n",
        "    for i in range(2, n+1):\n",
        "      if is_prime[i]:\n",
        "        for j in range(2*i, n+1, i):\n",
        "          is_prime[j] = False\n",
        "        primes.append(i)\n",
        "\n",
        "    return set(primes)\n",
        "\n",
        "primes = sieve(N)\n",
        "print(len(primes))"
      ]
    },
    {
      "cell_type": "markdown",
      "metadata": {
        "id": "8sWFWoOkQDrc"
      },
      "source": [
        "Write the Fermat primality test"
      ]
    },
    {
      "cell_type": "code",
      "execution_count": 74,
      "metadata": {
        "id": "Hu1wyoQqQDrc"
      },
      "outputs": [],
      "source": [
        "def fermat_is_prime(p: int, base=None):\n",
        "    if p == 2: return True\n",
        "    if base is None:\n",
        "        while True:\n",
        "            base = random.randint(2, p)\n",
        "            if math.gcd(p, base) == 1:\n",
        "                break\n",
        "\n",
        "    result = int(pow(base, p-1)) % p\n",
        "    return int(result) == 1"
      ]
    },
    {
      "cell_type": "markdown",
      "source": [
        "Testing Fermat Primality Test"
      ],
      "metadata": {
        "id": "LpoAmA7hJt4B"
      }
    },
    {
      "cell_type": "code",
      "source": [
        "fermat_primes = 0\n",
        "n = 100\n",
        "for i in range(2, n+1):\n",
        "  if fermat_is_prime(i):\n",
        "    fermat_primes += 1\n",
        "sieve_primes = len(sieve(n))\n",
        "print(f'Fermat Primes: {fermat_primes}')\n",
        "print(f'Sieve Primes: {sieve_primes}')"
      ],
      "metadata": {
        "colab": {
          "base_uri": "https://localhost:8080/"
        },
        "id": "hPoVk9bBJtZb",
        "outputId": "c00aedc9-23a5-4d48-ea13-1e7325228617"
      },
      "execution_count": 75,
      "outputs": [
        {
          "output_type": "stream",
          "name": "stdout",
          "text": [
            "Fermat Primes: 28\n",
            "Sieve Primes: 25\n"
          ]
        }
      ]
    },
    {
      "cell_type": "markdown",
      "metadata": {
        "id": "quRXhOmfQDrd"
      },
      "source": [
        "Using a single or even a random base might not always work: $2^{340} \\equiv 1\\ (mod\\ 341)$, but $341 = 11 \\cdot 31$ is composite. These numbers are called *pseudoprimes*. There is a proof that for every composite number where the algorithm succeeds for at least one base, it will succeed for at least half of the bases. Write the repeated fermat primality test that answers the primality question correctly with probability $1 - \\delta$. In order to achieve that, you will call `fermat_is_prime` iteratively until the failure probability is less than $\\delta$."
      ]
    },
    {
      "cell_type": "code",
      "execution_count": 76,
      "metadata": {
        "id": "q-PjI9pXQDrd"
      },
      "outputs": [],
      "source": [
        "def boosted_fermat(p: int, delta=1e-6):\n",
        "    trust = 1\n",
        "    while trust > delta:\n",
        "        if not fermat_is_prime(p):\n",
        "            return False\n",
        "        trust /= 2\n",
        "\n",
        "    return True"
      ]
    },
    {
      "cell_type": "markdown",
      "source": [
        "Testing Boosted Fermat"
      ],
      "metadata": {
        "id": "0ijHANDrMuP9"
      }
    },
    {
      "cell_type": "code",
      "source": [
        "boosted_fermat_primes = 0\n",
        "n = 100\n",
        "for i in range(2, n+1):\n",
        "  if boosted_fermat(i):\n",
        "    boosted_fermat_primes += 1\n",
        "sieve_primes = len(sieve(n))\n",
        "print(f'Boosted Fermat Primes: {boosted_fermat_primes}')\n",
        "print(f'Sieve Primes: {sieve_primes}')"
      ],
      "metadata": {
        "colab": {
          "base_uri": "https://localhost:8080/"
        },
        "id": "Dx82WrpDMu5a",
        "outputId": "73df046c-c918-4d64-e8db-7b3d96fcff63"
      },
      "execution_count": 79,
      "outputs": [
        {
          "output_type": "stream",
          "name": "stdout",
          "text": [
            "Boosted Fermat Primes: 25\n",
            "Sieve Primes: 25\n"
          ]
        }
      ]
    },
    {
      "cell_type": "markdown",
      "metadata": {
        "id": "l92NtpH9QDre"
      },
      "source": [
        "There exist certain numbers that have **no** (non coprime) bases for which the fermat test works. Those are called [Carmichael numbers](https://en.wikipedia.org/wiki/Carmichael_number). Use your primality testing with $\\delta = 10^{-6}$ to print all Carmichael numbers."
      ]
    },
    {
      "cell_type": "code",
      "execution_count": 78,
      "metadata": {
        "id": "0KFHw26lQDre",
        "colab": {
          "base_uri": "https://localhost:8080/"
        },
        "outputId": "645d2300-8382-45e4-8386-8399d2d0546c"
      },
      "outputs": [
        {
          "output_type": "stream",
          "name": "stdout",
          "text": [
            "561\n",
            "1105\n",
            "1729\n",
            "2465\n",
            "2821\n",
            "6601\n",
            "8911\n"
          ]
        }
      ],
      "source": [
        "# reminder 'primes' contains all primes up to N (inclusive)\n",
        "for p in range(2, N+1):\n",
        "    if boosted_fermat(p) and p not in primes:\n",
        "      print(p)"
      ]
    }
  ],
  "metadata": {
    "kernelspec": {
      "display_name": "Python 3",
      "language": "python",
      "name": "python3"
    },
    "language_info": {
      "codemirror_mode": {
        "name": "ipython",
        "version": 3
      },
      "file_extension": ".py",
      "mimetype": "text/x-python",
      "name": "python",
      "nbconvert_exporter": "python",
      "pygments_lexer": "ipython3",
      "version": "3.7.6"
    },
    "colab": {
      "provenance": []
    }
  },
  "nbformat": 4,
  "nbformat_minor": 0
}